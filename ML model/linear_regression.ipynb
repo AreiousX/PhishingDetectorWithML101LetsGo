{
 "cells": [
  {
   "cell_type": "code",
   "execution_count": 1,
   "id": "60ba1ba2-1a2c-44da-8846-0c2fbd68fd5a",
   "metadata": {},
   "outputs": [
    {
     "name": "stdout",
     "output_type": "stream",
     "text": [
      "2.5.0\n"
     ]
    }
   ],
   "source": [
    "from __future__ import absolute_import, division, print_function, unicode_literals\n",
    "\n",
    "import numpy as np\n",
    "import pandas as pd\n",
    "import matplotlib.pyplot as plt\n",
    "from six.moves import urllib\n",
    "import seaborn as sns\n",
    "import time\n",
    "\n",
    "from nltk.tokenize import RegexpTokenizer\n",
    "from nltk.stem.snowball import SnowballStemmer\n",
    "\n",
    "from sklearn.linear_model import LogisticRegression\n",
    "from sklearn.model_selection import train_test_split\n",
    "from sklearn.metrics import classification_report\n",
    "from sklearn.metrics import confusion_matrix\n",
    "from nltk.tokenize import RegexpTokenizer  \n",
    "from nltk.stem.snowball import SnowballStemmer\n",
    "from sklearn.feature_extraction.text import CountVectorizer \n",
    "from sklearn.pipeline import make_pipeline\n",
    "\n",
    "import pickle# use to dump model \n",
    "\n",
    "import tensorflow.compat.v2.feature_column as fc\n",
    "\n",
    "import tensorflow as tf\n",
    "print(tf.__version__)"
   ]
  },
  {
   "cell_type": "code",
   "execution_count": 2,
   "id": "c6a2bed0-20c1-49f3-943b-8819d5541331",
   "metadata": {},
   "outputs": [],
   "source": [
    "dftrain = pd.read_csv('E:/Codes/Python/ML Phising Detector/Datasets/phishing_site_urls.csv')\n",
    "dfeval = pd.read_csv('E:/Codes/Python/ML Phising Detector/Datasets/test.csv')"
   ]
  },
  {
   "cell_type": "code",
   "execution_count": 3,
   "id": "fa23dc6d-e2f4-4345-bc11-0acbfe5cce1a",
   "metadata": {},
   "outputs": [
    {
     "name": "stdout",
     "output_type": "stream",
     "text": [
      "    Label\n",
      "1  486263\n",
      "0  392865\n"
     ]
    }
   ],
   "source": [
    "label_counts = pd.DataFrame(dftrain.Label.value_counts())\n",
    "print(label_counts)"
   ]
  },
  {
   "cell_type": "code",
   "execution_count": 4,
   "id": "5de050e7-8de5-4fee-9e38-ebbafbbce584",
   "metadata": {},
   "outputs": [
    {
     "name": "stderr",
     "output_type": "stream",
     "text": [
      "c:\\users\\steven\\appdata\\local\\programs\\python\\python39\\lib\\site-packages\\seaborn\\_decorators.py:36: FutureWarning: Pass the following variables as keyword args: x, y. From version 0.12, the only valid positional argument will be `data`, and passing other arguments without an explicit keyword will result in an error or misinterpretation.\n",
      "  warnings.warn(\n"
     ]
    },
    {
     "data": {
      "text/plain": [
       "<AxesSubplot:ylabel='Label'>"
      ]
     },
     "execution_count": 4,
     "metadata": {},
     "output_type": "execute_result"
    },
    {
     "data": {
      "image/png": "[encoded data removed]",
      "text/plain": [
       "<Figure size 432x288 with 1 Axes>"
      ]
     },
     "metadata": {},
     "output_type": "display_data"
    }
   ],
   "source": [
    "sns.set_style('darkgrid')\n",
    "sns.barplot(label_counts.index,label_counts.Label)"
   ]
  },
  {
   "cell_type": "code",
   "execution_count": 5,
   "id": "2c72d833-dc1c-4c36-b5fa-37e785197834",
   "metadata": {},
   "outputs": [],
   "source": [
    "y_train = dftrain.pop('Label')\n",
    "y_eval = dfeval.pop('Label')\n",
    "urltrain = []\n",
    "urleval = []"
   ]
  },
  {
   "cell_type": "code",
   "execution_count": 6,
   "id": "1b26aca2-6c5b-4b35-9a0e-a0f5af13eeec",
   "metadata": {},
   "outputs": [],
   "source": [
    "def treat_data(datain):\n",
    "    tokenizer = RegexpTokenizer(r'[A-Za-z]+')\n",
    "    tokenizer.tokenize(datain.URL[0])\n",
    "    print('Getting words tokenized ...')\n",
    "    t0= time.perf_counter()\n",
    "    datain['text_tokenized'] = datain.URL.map(lambda t: tokenizer.tokenize(t))\n",
    "    t1 = time.perf_counter() - t0\n",
    "    print('Time taken',t1 ,'sec')\n",
    "\n",
    "    stemmer = SnowballStemmer(\"english\")\n",
    "    print('Getting words stemmed ...')\n",
    "    t0= time.perf_counter()\n",
    "    datain['text_stemmed'] = datain['text_tokenized'].map(lambda l: [stemmer.stem(word) for word in l])\n",
    "    t1= time.perf_counter() - t0\n",
    "    print('Time taken',t1 ,'sec')\n",
    "\n",
    "    print('Getting joiningwords ...')\n",
    "    t0= time.perf_counter()\n",
    "    datain['text_sent'] = datain['text_stemmed'].map(lambda l: ' '.join(l))\n",
    "    t1= time.perf_counter() - t0\n",
    "    print('Time taken',t1 ,'sec')\n",
    "\n",
    "    url = datain.pop('URL')\n",
    "    dataout = datain.drop(columns=['text_tokenized', 'text_stemmed'])\n",
    "    return dataout, url"
   ]
  },
  {
   "cell_type": "code",
   "execution_count": 7,
   "id": "026d0330-61fa-400a-9a69-1186e0497e42",
   "metadata": {},
   "outputs": [
    {
     "name": "stdout",
     "output_type": "stream",
     "text": [
      "Getting words tokenized ...\n",
      "Time taken 2.5894803 sec\n",
      "Getting words stemmed ...\n",
      "Time taken 37.461330000000004 sec\n",
      "Getting joiningwords ...\n",
      "Time taken 0.2379300999999998 sec\n"
     ]
    },
    {
     "data": {
      "text/html": [
       "<div>\n",
       "<style scoped>\n",
       "    .dataframe tbody tr th:only-of-type {\n",
       "        vertical-align: middle;\n",
       "    }\n",
       "\n",
       "    .dataframe tbody tr th {\n",
       "        vertical-align: top;\n",
       "    }\n",
       "\n",
       "    .dataframe thead th {\n",
       "        text-align: right;\n",
       "    }\n",
       "</style>\n",
       "<table border=\"1\" class=\"dataframe\">\n",
       "  <thead>\n",
       "    <tr style=\"text-align: right;\">\n",
       "      <th></th>\n",
       "      <th>text_sent</th>\n",
       "    </tr>\n",
       "  </thead>\n",
       "  <tbody>\n",
       "    <tr>\n",
       "      <th>410178</th>\n",
       "      <td>tsjonlin com stori php f</td>\n",
       "    </tr>\n",
       "    <tr>\n",
       "      <th>634915</th>\n",
       "      <td>hockeydraftcentr com html</td>\n",
       "    </tr>\n",
       "    <tr>\n",
       "      <th>421670</th>\n",
       "      <td>dksm ru</td>\n",
       "    </tr>\n",
       "    <tr>\n",
       "      <th>54048</th>\n",
       "      <td>legion virginia edu centurion</td>\n",
       "    </tr>\n",
       "    <tr>\n",
       "      <th>615728</th>\n",
       "      <td>bjyk exe</td>\n",
       "    </tr>\n",
       "    <tr>\n",
       "      <th>239128</th>\n",
       "      <td>klwnatr com</td>\n",
       "    </tr>\n",
       "    <tr>\n",
       "      <th>578713</th>\n",
       "      <td>bloodraventreasur com</td>\n",
       "    </tr>\n",
       "    <tr>\n",
       "      <th>774225</th>\n",
       "      <td>eventskofactivitymlbb cf</td>\n",
       "    </tr>\n",
       "    <tr>\n",
       "      <th>580110</th>\n",
       "      <td>songlyr com thrice for mile lyric</td>\n",
       "    </tr>\n",
       "    <tr>\n",
       "      <th>658477</th>\n",
       "      <td>mail eletehad net cp webhostbox net</td>\n",
       "    </tr>\n",
       "  </tbody>\n",
       "</table>\n",
       "</div>"
      ],
      "text/plain": [
       "                                  text_sent\n",
       "410178             tsjonlin com stori php f\n",
       "634915            hockeydraftcentr com html\n",
       "421670                              dksm ru\n",
       "54048         legion virginia edu centurion\n",
       "615728                             bjyk exe\n",
       "239128                          klwnatr com\n",
       "578713                bloodraventreasur com\n",
       "774225             eventskofactivitymlbb cf\n",
       "580110    songlyr com thrice for mile lyric\n",
       "658477  mail eletehad net cp webhostbox net"
      ]
     },
     "execution_count": 7,
     "metadata": {},
     "output_type": "execute_result"
    }
   ],
   "source": [
    "dftrain, urltrain = treat_data(dftrain)\n",
    "dftrain.sample(10)"
   ]
  },
  {
   "cell_type": "code",
   "execution_count": 8,
   "id": "8c7e30c8-68bb-4416-a501-fdbcab399c56",
   "metadata": {},
   "outputs": [
    {
     "name": "stdout",
     "output_type": "stream",
     "text": [
      "Getting words tokenized ...\n",
      "Time taken 0.0008696999999955324 sec\n",
      "Getting words stemmed ...\n",
      "Time taken 0.006534999999999513 sec\n",
      "Getting joiningwords ...\n",
      "Time taken 0.0004637999999985709 sec\n"
     ]
    },
    {
     "data": {
      "text/html": [
       "<div>\n",
       "<style scoped>\n",
       "    .dataframe tbody tr th:only-of-type {\n",
       "        vertical-align: middle;\n",
       "    }\n",
       "\n",
       "    .dataframe tbody tr th {\n",
       "        vertical-align: top;\n",
       "    }\n",
       "\n",
       "    .dataframe thead th {\n",
       "        text-align: right;\n",
       "    }\n",
       "</style>\n",
       "<table border=\"1\" class=\"dataframe\">\n",
       "  <thead>\n",
       "    <tr style=\"text-align: right;\">\n",
       "      <th></th>\n",
       "      <th>text_sent</th>\n",
       "    </tr>\n",
       "  </thead>\n",
       "  <tbody>\n",
       "    <tr>\n",
       "      <th>11</th>\n",
       "      <td>exploretal com taylormatheni</td>\n",
       "    </tr>\n",
       "    <tr>\n",
       "      <th>24</th>\n",
       "      <td>hao bat</td>\n",
       "    </tr>\n",
       "    <tr>\n",
       "      <th>47</th>\n",
       "      <td>easi french food com turnip recip html</td>\n",
       "    </tr>\n",
       "    <tr>\n",
       "      <th>15</th>\n",
       "      <td>stmichael sanmiguel com</td>\n",
       "    </tr>\n",
       "    <tr>\n",
       "      <th>22</th>\n",
       "      <td>lovejessi com whatsapp</td>\n",
       "    </tr>\n",
       "    <tr>\n",
       "      <th>122</th>\n",
       "      <td>elxosnfer web app</td>\n",
       "    </tr>\n",
       "    <tr>\n",
       "      <th>113</th>\n",
       "      <td>stuffaboutnam com perci index htm</td>\n",
       "    </tr>\n",
       "    <tr>\n",
       "      <th>7</th>\n",
       "      <td>www agdeal com leo</td>\n",
       "    </tr>\n",
       "    <tr>\n",
       "      <th>16</th>\n",
       "      <td>amazon com tango danc stori simon collier dp</td>\n",
       "    </tr>\n",
       "    <tr>\n",
       "      <th>83</th>\n",
       "      <td>a hentaiwonderland com</td>\n",
       "    </tr>\n",
       "  </tbody>\n",
       "</table>\n",
       "</div>"
      ],
      "text/plain": [
       "                                        text_sent\n",
       "11                   exploretal com taylormatheni\n",
       "24                                        hao bat\n",
       "47         easi french food com turnip recip html\n",
       "15                        stmichael sanmiguel com\n",
       "22                         lovejessi com whatsapp\n",
       "122                             elxosnfer web app\n",
       "113             stuffaboutnam com perci index htm\n",
       "7                              www agdeal com leo\n",
       "16   amazon com tango danc stori simon collier dp\n",
       "83                         a hentaiwonderland com"
      ]
     },
     "execution_count": 8,
     "metadata": {},
     "output_type": "execute_result"
    }
   ],
   "source": [
    "dfeval, urleval = treat_data(dfeval)\n",
    "dfeval.sample(10)"
   ]
  },
  {
   "cell_type": "code",
   "execution_count": 9,
   "id": "17bee990-8967-4484-a084-ba143b8d7287",
   "metadata": {},
   "outputs": [],
   "source": [
    "CATEGORICAL_COLUMNS = ['text_sent']\n",
    "\n",
    "feature_columns = []\n",
    "for feature_name in CATEGORICAL_COLUMNS:\n",
    "  vocabulary = dftrain[feature_name].unique()\n",
    "  feature_columns.append(tf.feature_column.categorical_column_with_vocabulary_list(feature_name, vocabulary))"
   ]
  },
  {
   "cell_type": "code",
   "execution_count": 10,
   "id": "85f9c4c7-a901-4b77-9cb8-5edcfb2ae998",
   "metadata": {},
   "outputs": [],
   "source": [
    "def make_input_fn(data_df, label_df, num_epochs=15, shuffle=True, batch_size=32):\n",
    "  def input_function():\n",
    "    ds = tf.data.Dataset.from_tensor_slices((dict(data_df), label_df))\n",
    "    if shuffle:\n",
    "      ds = ds.shuffle(1000)\n",
    "    ds = ds.batch(batch_size).repeat(num_epochs)\n",
    "    return ds\n",
    "  return input_function\n",
    "\n",
    "train_input_fn = make_input_fn(dftrain, y_train)\n",
    "eval_input_fn = make_input_fn(dfeval, y_eval, num_epochs=1, shuffle=False)"
   ]
  },
  {
   "cell_type": "code",
   "execution_count": 11,
   "id": "f11aab8e-07d9-414e-9b20-e39efa66c204",
   "metadata": {},
   "outputs": [
    {
     "name": "stdout",
     "output_type": "stream",
     "text": [
      "INFO:tensorflow:Using default config.\n",
      "WARNING:tensorflow:Using temporary folder as model directory: C:\\Users\\Steven\\AppData\\Local\\Temp\\tmptaw3ne05\n",
      "INFO:tensorflow:Using config: {'_model_dir': 'C:\\\\Users\\\\Steven\\\\AppData\\\\Local\\\\Temp\\\\tmptaw3ne05', '_tf_random_seed': None, '_save_summary_steps': 100, '_save_checkpoints_steps': None, '_save_checkpoints_secs': 600, '_session_config': allow_soft_placement: true\n",
      "graph_options {\n",
      "  rewrite_options {\n",
      "    meta_optimizer_iterations: ONE\n",
      "  }\n",
      "}\n",
      ", '_keep_checkpoint_max': 5, '_keep_checkpoint_every_n_hours': 10000, '_log_step_count_steps': 100, '_train_distribute': None, '_device_fn': None, '_protocol': None, '_eval_distribute': None, '_experimental_distribute': None, '_experimental_max_worker_delay_secs': None, '_session_creation_timeout_secs': 7200, '_checkpoint_save_graph_def': True, '_service': None, '_cluster_spec': ClusterSpec({}), '_task_type': 'worker', '_task_id': 0, '_global_id_in_cluster': 0, '_master': '', '_evaluation_master': '', '_is_chief': True, '_num_ps_replicas': 0, '_num_worker_replicas': 1}\n"
     ]
    }
   ],
   "source": [
    "linear_est = tf.estimator.LinearClassifier(feature_columns=feature_columns)"
   ]
  },
  {
   "cell_type": "code",
   "execution_count": 12,
   "id": "bdcc004e-2b09-416c-b16d-c42e07f739bc",
   "metadata": {
    "tags": []
   },
   "outputs": [
    {
     "name": "stdout",
     "output_type": "stream",
     "text": [
      "WARNING:tensorflow:From c:\\users\\steven\\appdata\\local\\programs\\python\\python39\\lib\\site-packages\\tensorflow\\python\\training\\training_util.py:235: Variable.initialized_value (from tensorflow.python.ops.variables) is deprecated and will be removed in a future version.\n",
      "Instructions for updating:\n",
      "Use Variable.read_value. Variables in 2.X are initialized automatically both in eager and graph (inside tf.defun) contexts.\n",
      "INFO:tensorflow:Calling model_fn.\n"
     ]
    },
    {
     "name": "stderr",
     "output_type": "stream",
     "text": [
      "c:\\users\\steven\\appdata\\local\\programs\\python\\python39\\lib\\site-packages\\tensorflow\\python\\keras\\engine\\base_layer_v1.py:1700: UserWarning: `layer.add_variable` is deprecated and will be removed in a future version. Please use `layer.add_weight` method instead.\n",
      "  warnings.warn('`layer.add_variable` is deprecated and '\n"
     ]
    },
    {
     "name": "stdout",
     "output_type": "stream",
     "text": [
      "WARNING:tensorflow:From c:\\users\\steven\\appdata\\local\\programs\\python\\python39\\lib\\site-packages\\tensorflow\\python\\keras\\optimizer_v2\\ftrl.py:148: calling Constant.__init__ (from tensorflow.python.ops.init_ops) with dtype is deprecated and will be removed in a future version.\n",
      "Instructions for updating:\n",
      "Call initializer instance with the dtype argument instead of passing it to the constructor\n",
      "INFO:tensorflow:Done calling model_fn.\n",
      "INFO:tensorflow:Create CheckpointSaverHook.\n",
      "INFO:tensorflow:Graph was finalized.\n",
      "INFO:tensorflow:Running local_init_op.\n",
      "INFO:tensorflow:Done running local_init_op.\n",
      "INFO:tensorflow:Calling checkpoint listeners before saving checkpoint 0...\n",
      "INFO:tensorflow:Saving checkpoints for 0 into C:\\Users\\Steven\\AppData\\Local\\Temp\\tmptaw3ne05\\model.ckpt.\n",
      "INFO:tensorflow:Calling checkpoint listeners after saving checkpoint 0...\n",
      "INFO:tensorflow:loss = 0.6931472, step = 0\n",
      "INFO:tensorflow:global_step/sec: 167.085\n",
      "INFO:tensorflow:loss = 0.67333764, step = 100 (0.599 sec)\n",
      "INFO:tensorflow:global_step/sec: 317.699\n",
      "INFO:tensorflow:loss = 0.63517064, step = 249600 (0.389 sec)\n",
      "INFO:tensorflow:global_step/sec: 291.768\n",
      "INFO:tensorflow:loss = 0.5602364, step = 249700 (0.344 sec)\n",
      "INFO:tensorflow:global_step/sec: 313.218\n",
      "INFO:tensorflow:loss = 0.6017059, step = 249800 (0.319 sec)\n",
      "INFO:tensorflow:global_step/sec: 315.195\n",
      "INFO:tensorflow:loss = 0.6336772, step = 249900 (0.318 sec)\n",
      "INFO:tensorflow:global_step/sec: 322.832\n",
      "INFO:tensorflow:loss = 0.6148561, step = 250000 (0.309 sec)\n",
      "INFO:tensorflow:global_step/sec: 330.304\n",
      "INFO:tensorflow:loss = 0.59939444, step = 250100 (0.303 sec)\n",
      "INFO:tensorflow:global_step/sec: 323.355\n",
      "INFO:tensorflow:loss = 0.59973264, step = 250200 (0.309 sec)\n",
      "INFO:tensorflow:global_step/sec: 320.246\n",
      "INFO:tensorflow:loss = 0.6298575, step = 250300 (0.312 sec)\n",
      "INFO:tensorflow:global_step/sec: 325.992\n",
      "INFO:tensorflow:loss = 0.6177383, step = 250400 (0.307 sec)\n",
      "INFO:tensorflow:global_step/sec: 318.713\n",
      "INFO:tensorflow:loss = 0.6025102, step = 250500 (0.314 sec)\n",
      "INFO:tensorflow:global_step/sec: 326.995\n",
      "\n\n...\n\n",
      "INFO:tensorflow:loss = 0.5954583, step = 250600 (0.306 sec)\n",
      "INFO:tensorflow:global_step/sec: 321.856\n",
      "INFO:tensorflow:loss = 0.55713606, step = 250700 (0.311 sec)\n",
      "INFO:tensorflow:global_step/sec: 323.354\n",
      "INFO:tensorflow:loss = 0.58866674, step = 250800 (0.310 sec)\n",
      "INFO:tensorflow:global_step/sec: 330.851\n",
      "INFO:tensorflow:loss = 0.61935294, step = 250900 (0.302 sec)\n",
      "INFO:tensorflow:global_step/sec: 318.713\n",
      "INFO:tensorflow:loss = 0.5578444, step = 251000 (0.313 sec)\n",
      "INFO:tensorflow:global_step/sec: 325.992\n",
      "INFO:tensorflow:loss = 0.63590014, step = 251100 (0.307 sec)\n",
      "INFO:tensorflow:global_step/sec: 325.993\n",
      "INFO:tensorflow:loss = 0.6269904, step = 251200 (0.307 sec)\n",
      "INFO:tensorflow:global_step/sec: 323.878\n",
      "INFO:tensorflow:loss = 0.5723012, step = 251300 (0.309 sec)\n",
      "INFO:tensorflow:global_step/sec: 321.277\n",
      "INFO:tensorflow:loss = 0.636452, step = 251400 (0.311 sec)\n",
      "INFO:tensorflow:global_step/sec: 318.712\n",
      "INFO:tensorflow:loss = 0.58989215, step = 251500 (0.314 sec)\n",
      "INFO:tensorflow:global_step/sec: 334.169\n",
      "INFO:tensorflow:loss = 0.57938087, step = 251600 (0.299 sec)\n",
      "INFO:tensorflow:global_step/sec: 335.855\n",
      "INFO:tensorflow:global_step/sec: 330.303\n",
      "INFO:tensorflow:loss = 0.6428772, step = 313300 (0.302 sec)\n",
      "INFO:tensorflow:Calling checkpoint listeners before saving checkpoint 412095...\n",
      "INFO:tensorflow:Saving checkpoints for 412095 into C:\\Users\\Steven\\AppData\\Local\\Temp\\tmptaw3ne05\\model.ckpt.\n",
      "INFO:tensorflow:Calling checkpoint listeners after saving checkpoint 412095...\n",
      "INFO:tensorflow:Loss for final step: 0.5640382.\n"
     ]
    },
    {
     "data": {
      "text/plain": [
       "<tensorflow_estimator.python.estimator.canned.linear.LinearClassifierV2 at 0x235b3e36d30>"
      ]
     },
     "execution_count": 12,
     "metadata": {},
     "output_type": "execute_result"
    }
   ],
   "source": [
    "linear_est.train(train_input_fn)"
   ]
  },
  {
   "cell_type": "code",
   "execution_count": null,
   "id": "80a3775b-11c4-491a-8506-618a9b0344d7",
   "metadata": {},
   "outputs": [],
   "source": [
    "result = linear_est.evaluate(eval_input_fn)\n",
    "print(result)\n",
    "print(result['accuracy'])"
   ]
  },
  {
   "cell_type": "code",
   "execution_count": null,
   "id": "97a03e1d-444e-47fa-b71b-7142f154f7ca",
   "metadata": {},
   "outputs": [],
   "source": []
  }
 ],
 "metadata": {
  "kernelspec": {
   "display_name": "Python 3 (ipykernel)",
   "language": "python",
   "name": "python3"
  },
  "language_info": {
   "codemirror_mode": {
    "name": "ipython",
    "version": 3
   },
   "file_extension": ".py",
   "mimetype": "text/x-python",
   "name": "python",
   "nbconvert_exporter": "python",
   "pygments_lexer": "ipython3",
   "version": "3.9.6"
  }
 },
 "nbformat": 4,
 "nbformat_minor": 5
}
