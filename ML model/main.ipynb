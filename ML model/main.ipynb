{
 "cells": [
  {
   "cell_type": "code",
   "execution_count": 1,
   "id": "1a2f56d9-309b-4f27-9c9f-12cc39746e0f",
   "metadata": {},
   "outputs": [
    {
     "name": "stdout",
     "output_type": "stream",
     "text": [
      "2.5.0\n"
     ]
    }
   ],
   "source": [
    "from __future__ import absolute_import, division, print_function, unicode_literals\n",
    "\n",
    "import numpy as np\n",
    "import pandas as pd\n",
    "import matplotlib.pyplot as plt\n",
    "from six.moves import urllib\n",
    "import seaborn as sns\n",
    "import time\n",
    "\n",
    "from nltk.tokenize import RegexpTokenizer\n",
    "from nltk.stem.snowball import SnowballStemmer\n",
    "\n",
    "from sklearn.linear_model import LogisticRegression\n",
    "from sklearn.model_selection import train_test_split\n",
    "from sklearn.metrics import classification_report\n",
    "from sklearn.metrics import confusion_matrix\n",
    "from nltk.tokenize import RegexpTokenizer  \n",
    "from nltk.stem.snowball import SnowballStemmer\n",
    "from sklearn.feature_extraction.text import CountVectorizer \n",
    "from sklearn.pipeline import make_pipeline\n",
    "\n",
    "import pickle# use to dump model \n",
    "\n",
    "import tensorflow.compat.v2.feature_column as fc\n",
    "\n",
    "import tensorflow as tf\n",
    "print(tf.__version__)"
   ]
  },
  {
   "cell_type": "code",
   "execution_count": 2,
   "id": "709c85cc-9dd2-4f43-b807-f7ec1b6ef143",
   "metadata": {},
   "outputs": [],
   "source": [
    "dftrain = pd.read_csv('E:/Codes/Python/ML Phising Detector/Datasets/phishing_site_urls.csv')\n",
    "dfeval = pd.read_csv('E:/Codes/Python/ML Phising Detector/Datasets/test.csv')"
   ]
  },
  {
   "cell_type": "code",
   "execution_count": 3,
   "id": "ada6ac1e-b3e2-43d7-9d33-5dc24139b93e",
   "metadata": {},
   "outputs": [
    {
     "name": "stdout",
     "output_type": "stream",
     "text": [
      "    Label\n",
      "1  486263\n",
      "0  392865\n"
     ]
    }
   ],
   "source": [
    "label_counts = pd.DataFrame(dftrain.Label.value_counts())\n",
    "print(label_counts)"
   ]
  },
  {
   "cell_type": "code",
   "execution_count": 4,
   "id": "9e18ce56-ec1f-4348-9d02-537c4c3a947a",
   "metadata": {},
   "outputs": [
    {
     "name": "stderr",
     "output_type": "stream",
     "text": [
      "c:\\users\\steven\\appdata\\local\\programs\\python\\python39\\lib\\site-packages\\seaborn\\_decorators.py:36: FutureWarning: Pass the following variables as keyword args: x, y. From version 0.12, the only valid positional argument will be `data`, and passing other arguments without an explicit keyword will result in an error or misinterpretation.\n",
      "  warnings.warn(\n"
     ]
    },
    {
     "data": {
      "text/plain": [
       "<AxesSubplot:ylabel='Label'>"
      ]
     },
     "execution_count": 4,
     "metadata": {},
     "output_type": "execute_result"
    },
    {
     "data": {
      "image/png": "[encoded data removed]",
      "text/plain": [
       "<Figure size 432x288 with 1 Axes>"
      ]
     },
     "metadata": {},
     "output_type": "display_data"
    }
   ],
   "source": [
    "sns.set_style('darkgrid')\n",
    "sns.barplot(label_counts.index,label_counts.Label)"
   ]
  },
  {
   "cell_type": "code",
   "execution_count": 5,
   "id": "86016929-5201-4f1c-b1ba-824dbdd1d44d",
   "metadata": {},
   "outputs": [],
   "source": [
    "def treat_data(datain):\n",
    "    tokenizer = RegexpTokenizer(r'[A-Za-z]+')\n",
    "    tokenizer.tokenize(datain.URL[0])\n",
    "    print('Getting words tokenized ...')\n",
    "    t0= time.perf_counter()\n",
    "    datain['text_tokenized'] = datain.URL.map(lambda t: tokenizer.tokenize(t))\n",
    "    t1 = time.perf_counter() - t0\n",
    "    print('Time taken',t1 ,'sec')\n",
    "\n",
    "    stemmer = SnowballStemmer(\"english\")\n",
    "    print('Getting words stemmed ...')\n",
    "    t0= time.perf_counter()\n",
    "    datain['text_stemmed'] = datain['text_tokenized'].map(lambda l: [stemmer.stem(word) for word in l])\n",
    "    t1= time.perf_counter() - t0\n",
    "    print('Time taken',t1 ,'sec')\n",
    "\n",
    "    print('Getting joiningwords ...')\n",
    "    t0= time.perf_counter()\n",
    "    datain['text_sent'] = datain['text_stemmed'].map(lambda l: ' '.join(l))\n",
    "    t1= time.perf_counter() - t0\n",
    "    print('Time taken',t1 ,'sec')\n",
    "\n",
    "    dataout = datain\n",
    "    return dataout"
   ]
  },
  {
   "cell_type": "code",
   "execution_count": 6,
   "id": "e6d32d4d-1cc8-492b-b4ed-35cd8165dc17",
   "metadata": {},
   "outputs": [
    {
     "name": "stdout",
     "output_type": "stream",
     "text": [
      "Getting words tokenized ...\n",
      "Time taken 2.7008202 sec\n",
      "Getting words stemmed ...\n",
      "Time taken 37.37827970000001 sec\n",
      "Getting joiningwords ...\n",
      "Time taken 0.24157269999999897 sec\n"
     ]
    },
    {
     "data": {
      "text/plain": [
       "(879128, 5)"
      ]
     },
     "execution_count": 6,
     "metadata": {},
     "output_type": "execute_result"
    }
   ],
   "source": [
    "dftrain = treat_data(dftrain)\n",
    "dftrain.shape"
   ]
  },
  {
   "cell_type": "code",
   "execution_count": 7,
   "id": "9f8ae6bc-1738-4ad6-af09-5a7e200ef9ec",
   "metadata": {},
   "outputs": [
    {
     "data": {
      "text/html": [
       "<div>\n",
       "<style scoped>\n",
       "    .dataframe tbody tr th:only-of-type {\n",
       "        vertical-align: middle;\n",
       "    }\n",
       "\n",
       "    .dataframe tbody tr th {\n",
       "        vertical-align: top;\n",
       "    }\n",
       "\n",
       "    .dataframe thead th {\n",
       "        text-align: right;\n",
       "    }\n",
       "</style>\n",
       "<table border=\"1\" class=\"dataframe\">\n",
       "  <thead>\n",
       "    <tr style=\"text-align: right;\">\n",
       "      <th></th>\n",
       "      <th>URL</th>\n",
       "      <th>Label</th>\n",
       "      <th>text_tokenized</th>\n",
       "      <th>text_stemmed</th>\n",
       "      <th>text_sent</th>\n",
       "    </tr>\n",
       "  </thead>\n",
       "  <tbody>\n",
       "    <tr>\n",
       "      <th>12328</th>\n",
       "      <td>amazon.com/Connee-Boswell/e/B000APZ6FY</td>\n",
       "      <td>0</td>\n",
       "      <td>[amazon, com, Connee, Boswell, e, B, APZ, FY]</td>\n",
       "      <td>[amazon, com, conne, boswel, e, b, apz, fy]</td>\n",
       "      <td>amazon com conne boswel e b apz fy</td>\n",
       "    </tr>\n",
       "    <tr>\n",
       "      <th>707864</th>\n",
       "      <td>minatajhiz.com</td>\n",
       "      <td>1</td>\n",
       "      <td>[minatajhiz, com]</td>\n",
       "      <td>[minatajhiz, com]</td>\n",
       "      <td>minatajhiz com</td>\n",
       "    </tr>\n",
       "    <tr>\n",
       "      <th>298766</th>\n",
       "      <td>paypal.co.uk.rh2b.icu</td>\n",
       "      <td>1</td>\n",
       "      <td>[paypal, co, uk, rh, b, icu]</td>\n",
       "      <td>[paypal, co, uk, rh, b, icu]</td>\n",
       "      <td>paypal co uk rh b icu</td>\n",
       "    </tr>\n",
       "    <tr>\n",
       "      <th>179477</th>\n",
       "      <td>theblurb.ca/professional_services/Michel_Pilon...</td>\n",
       "      <td>0</td>\n",
       "      <td>[theblurb, ca, professional, services, Michel,...</td>\n",
       "      <td>[theblurb, ca, profession, servic, michel, pil...</td>\n",
       "      <td>theblurb ca profession servic michel pilon ser...</td>\n",
       "    </tr>\n",
       "    <tr>\n",
       "      <th>620147</th>\n",
       "      <td>streetsource.com/forum/110123_0_Buildups-BODY-...</td>\n",
       "      <td>0</td>\n",
       "      <td>[streetsource, com, forum, Buildups, BODY, DRO...</td>\n",
       "      <td>[streetsourc, com, forum, buildup, bodi, drop,...</td>\n",
       "      <td>streetsourc com forum buildup bodi drop f on s...</td>\n",
       "    </tr>\n",
       "    <tr>\n",
       "      <th>167603</th>\n",
       "      <td>dibbern.com/nursing-homes/washington/washingto...</td>\n",
       "      <td>0</td>\n",
       "      <td>[dibbern, com, nursing, homes, washington, was...</td>\n",
       "      <td>[dibbern, com, nurs, home, washington, washing...</td>\n",
       "      <td>dibbern com nurs home washington washington nu...</td>\n",
       "    </tr>\n",
       "    <tr>\n",
       "      <th>638480</th>\n",
       "      <td>habbototemraro.rel7.com/</td>\n",
       "      <td>1</td>\n",
       "      <td>[habbototemraro, rel, com]</td>\n",
       "      <td>[habbototemraro, rel, com]</td>\n",
       "      <td>habbototemraro rel com</td>\n",
       "    </tr>\n",
       "    <tr>\n",
       "      <th>851852</th>\n",
       "      <td>servinghistory.com/topics/Ford_385_engine</td>\n",
       "      <td>0</td>\n",
       "      <td>[servinghistory, com, topics, Ford, engine]</td>\n",
       "      <td>[servinghistori, com, topic, ford, engin]</td>\n",
       "      <td>servinghistori com topic ford engin</td>\n",
       "    </tr>\n",
       "    <tr>\n",
       "      <th>425140</th>\n",
       "      <td>katiewheelerlibrary.wordpress.com/irvine-famil...</td>\n",
       "      <td>0</td>\n",
       "      <td>[katiewheelerlibrary, wordpress, com, irvine, ...</td>\n",
       "      <td>[katiewheelerlibrari, wordpress, com, irvin, f...</td>\n",
       "      <td>katiewheelerlibrari wordpress com irvin famili...</td>\n",
       "    </tr>\n",
       "    <tr>\n",
       "      <th>23164</th>\n",
       "      <td>newswire.ca/en/story/689741/crtc-approves-shaw...</td>\n",
       "      <td>0</td>\n",
       "      <td>[newswire, ca, en, story, crtc, approves, shaw...</td>\n",
       "      <td>[newswir, ca, en, stori, crtc, approv, shaw, s...</td>\n",
       "      <td>newswir ca en stori crtc approv shaw s purchas...</td>\n",
       "    </tr>\n",
       "  </tbody>\n",
       "</table>\n",
       "</div>"
      ],
      "text/plain": [
       "                                                      URL  Label  \\\n",
       "12328              amazon.com/Connee-Boswell/e/B000APZ6FY      0   \n",
       "707864                                     minatajhiz.com      1   \n",
       "298766                              paypal.co.uk.rh2b.icu      1   \n",
       "179477  theblurb.ca/professional_services/Michel_Pilon...      0   \n",
       "620147  streetsource.com/forum/110123_0_Buildups-BODY-...      0   \n",
       "167603  dibbern.com/nursing-homes/washington/washingto...      0   \n",
       "638480                           habbototemraro.rel7.com/      1   \n",
       "851852          servinghistory.com/topics/Ford_385_engine      0   \n",
       "425140  katiewheelerlibrary.wordpress.com/irvine-famil...      0   \n",
       "23164   newswire.ca/en/story/689741/crtc-approves-shaw...      0   \n",
       "\n",
       "                                           text_tokenized  \\\n",
       "12328       [amazon, com, Connee, Boswell, e, B, APZ, FY]   \n",
       "707864                                  [minatajhiz, com]   \n",
       "298766                       [paypal, co, uk, rh, b, icu]   \n",
       "179477  [theblurb, ca, professional, services, Michel,...   \n",
       "620147  [streetsource, com, forum, Buildups, BODY, DRO...   \n",
       "167603  [dibbern, com, nursing, homes, washington, was...   \n",
       "638480                         [habbototemraro, rel, com]   \n",
       "851852        [servinghistory, com, topics, Ford, engine]   \n",
       "425140  [katiewheelerlibrary, wordpress, com, irvine, ...   \n",
       "23164   [newswire, ca, en, story, crtc, approves, shaw...   \n",
       "\n",
       "                                             text_stemmed  \\\n",
       "12328         [amazon, com, conne, boswel, e, b, apz, fy]   \n",
       "707864                                  [minatajhiz, com]   \n",
       "298766                       [paypal, co, uk, rh, b, icu]   \n",
       "179477  [theblurb, ca, profession, servic, michel, pil...   \n",
       "620147  [streetsourc, com, forum, buildup, bodi, drop,...   \n",
       "167603  [dibbern, com, nurs, home, washington, washing...   \n",
       "638480                         [habbototemraro, rel, com]   \n",
       "851852          [servinghistori, com, topic, ford, engin]   \n",
       "425140  [katiewheelerlibrari, wordpress, com, irvin, f...   \n",
       "23164   [newswir, ca, en, stori, crtc, approv, shaw, s...   \n",
       "\n",
       "                                                text_sent  \n",
       "12328                  amazon com conne boswel e b apz fy  \n",
       "707864                                     minatajhiz com  \n",
       "298766                              paypal co uk rh b icu  \n",
       "179477  theblurb ca profession servic michel pilon ser...  \n",
       "620147  streetsourc com forum buildup bodi drop f on s...  \n",
       "167603  dibbern com nurs home washington washington nu...  \n",
       "638480                             habbototemraro rel com  \n",
       "851852                servinghistori com topic ford engin  \n",
       "425140  katiewheelerlibrari wordpress com irvin famili...  \n",
       "23164   newswir ca en stori crtc approv shaw s purchas...  "
      ]
     },
     "execution_count": 7,
     "metadata": {},
     "output_type": "execute_result"
    }
   ],
   "source": [
    "dftrain.sample(10)"
   ]
  },
  {
   "cell_type": "code",
   "execution_count": 8,
   "id": "cf1226ca-9cfa-428d-b4c9-97136ebe0b8a",
   "metadata": {},
   "outputs": [
    {
     "name": "stdout",
     "output_type": "stream",
     "text": [
      "Getting words tokenized ...\n",
      "Time taken 0.0007528000000007751 sec\n",
      "Getting words stemmed ...\n",
      "Time taken 0.006744700000005821 sec\n",
      "Getting joiningwords ...\n",
      "Time taken 0.0006334000000052242 sec\n"
     ]
    },
    {
     "data": {
      "text/plain": [
       "(133, 5)"
      ]
     },
     "execution_count": 8,
     "metadata": {},
     "output_type": "execute_result"
    }
   ],
   "source": [
    "dfeval = treat_data(dfeval)\n",
    "dfeval.shape"
   ]
  },
  {
   "cell_type": "code",
   "execution_count": 9,
   "id": "dfdff226-2cb9-4e1b-af01-225dd41016b3",
   "metadata": {},
   "outputs": [
    {
     "data": {
      "text/html": [
       "<div>\n",
       "<style scoped>\n",
       "    .dataframe tbody tr th:only-of-type {\n",
       "        vertical-align: middle;\n",
       "    }\n",
       "\n",
       "    .dataframe tbody tr th {\n",
       "        vertical-align: top;\n",
       "    }\n",
       "\n",
       "    .dataframe thead th {\n",
       "        text-align: right;\n",
       "    }\n",
       "</style>\n",
       "<table border=\"1\" class=\"dataframe\">\n",
       "  <thead>\n",
       "    <tr style=\"text-align: right;\">\n",
       "      <th></th>\n",
       "      <th>URL</th>\n",
       "      <th>Label</th>\n",
       "      <th>text_tokenized</th>\n",
       "      <th>text_stemmed</th>\n",
       "      <th>text_sent</th>\n",
       "    </tr>\n",
       "  </thead>\n",
       "  <tbody>\n",
       "    <tr>\n",
       "      <th>38</th>\n",
       "      <td>hoosierhillshoops.com/2011/08/05/new-albanys-w...</td>\n",
       "      <td>0</td>\n",
       "      <td>[hoosierhillshoops, com, new, albanys, whitehe...</td>\n",
       "      <td>[hoosierhillshoop, com, new, albani, whitehead...</td>\n",
       "      <td>hoosierhillshoop com new albani whitehead head...</td>\n",
       "    </tr>\n",
       "    <tr>\n",
       "      <th>22</th>\n",
       "      <td>lovejessy.com/whatSapp/</td>\n",
       "      <td>1</td>\n",
       "      <td>[lovejessy, com, whatSapp]</td>\n",
       "      <td>[lovejessi, com, whatsapp]</td>\n",
       "      <td>lovejessi com whatsapp</td>\n",
       "    </tr>\n",
       "    <tr>\n",
       "      <th>85</th>\n",
       "      <td>samfordsports.com/sports/m-baskbl/spec-rel/sam...</td>\n",
       "      <td>0</td>\n",
       "      <td>[samfordsports, com, sports, m, baskbl, spec, ...</td>\n",
       "      <td>[samfordsport, com, sport, m, baskbl, spec, re...</td>\n",
       "      <td>samfordsport com sport m baskbl spec rel samf ...</td>\n",
       "    </tr>\n",
       "    <tr>\n",
       "      <th>103</th>\n",
       "      <td>city-data.com/city/Waverly-Missouri.html</td>\n",
       "      <td>0</td>\n",
       "      <td>[city, data, com, city, Waverly, Missouri, html]</td>\n",
       "      <td>[citi, data, com, citi, waver, missouri, html]</td>\n",
       "      <td>citi data com citi waver missouri html</td>\n",
       "    </tr>\n",
       "    <tr>\n",
       "      <th>111</th>\n",
       "      <td>revolute-efficienci.000webhostapp.com</td>\n",
       "      <td>1</td>\n",
       "      <td>[revolute, efficienci, webhostapp, com]</td>\n",
       "      <td>[revolut, effici, webhostapp, com]</td>\n",
       "      <td>revolut effici webhostapp com</td>\n",
       "    </tr>\n",
       "    <tr>\n",
       "      <th>17</th>\n",
       "      <td>m-facebook.co</td>\n",
       "      <td>1</td>\n",
       "      <td>[m, facebook, co]</td>\n",
       "      <td>[m, facebook, co]</td>\n",
       "      <td>m facebook co</td>\n",
       "    </tr>\n",
       "    <tr>\n",
       "      <th>11</th>\n",
       "      <td>exploretalent.com/taylormatheny</td>\n",
       "      <td>0</td>\n",
       "      <td>[exploretalent, com, taylormatheny]</td>\n",
       "      <td>[exploretal, com, taylormatheni]</td>\n",
       "      <td>exploretal com taylormatheni</td>\n",
       "    </tr>\n",
       "    <tr>\n",
       "      <th>68</th>\n",
       "      <td>emusic.com/album/Harmonica-Shah-If-All-You-Hav...</td>\n",
       "      <td>0</td>\n",
       "      <td>[emusic, com, album, Harmonica, Shah, If, All,...</td>\n",
       "      <td>[emus, com, album, harmonica, shah, if, all, y...</td>\n",
       "      <td>emus com album harmonica shah if all you have ...</td>\n",
       "    </tr>\n",
       "    <tr>\n",
       "      <th>2</th>\n",
       "      <td>hampshirepolicechoir.org.uk/</td>\n",
       "      <td>0</td>\n",
       "      <td>[hampshirepolicechoir, org, uk]</td>\n",
       "      <td>[hampshirepolicechoir, org, uk]</td>\n",
       "      <td>hampshirepolicechoir org uk</td>\n",
       "    </tr>\n",
       "    <tr>\n",
       "      <th>36</th>\n",
       "      <td>thamaritan.com</td>\n",
       "      <td>1</td>\n",
       "      <td>[thamaritan, com]</td>\n",
       "      <td>[thamaritan, com]</td>\n",
       "      <td>thamaritan com</td>\n",
       "    </tr>\n",
       "  </tbody>\n",
       "</table>\n",
       "</div>"
      ],
      "text/plain": [
       "                                                   URL  Label  \\\n",
       "38   hoosierhillshoops.com/2011/08/05/new-albanys-w...      0   \n",
       "22                             lovejessy.com/whatSapp/      1   \n",
       "85   samfordsports.com/sports/m-baskbl/spec-rel/sam...      0   \n",
       "103           city-data.com/city/Waverly-Missouri.html      0   \n",
       "111              revolute-efficienci.000webhostapp.com      1   \n",
       "17                                       m-facebook.co      1   \n",
       "11                     exploretalent.com/taylormatheny      0   \n",
       "68   emusic.com/album/Harmonica-Shah-If-All-You-Hav...      0   \n",
       "2                         hampshirepolicechoir.org.uk/      0   \n",
       "36                                      thamaritan.com      1   \n",
       "\n",
       "                                        text_tokenized  \\\n",
       "38   [hoosierhillshoops, com, new, albanys, whitehe...   \n",
       "22                          [lovejessy, com, whatSapp]   \n",
       "85   [samfordsports, com, sports, m, baskbl, spec, ...   \n",
       "103   [city, data, com, city, Waverly, Missouri, html]   \n",
       "111            [revolute, efficienci, webhostapp, com]   \n",
       "17                                   [m, facebook, co]   \n",
       "11                 [exploretalent, com, taylormatheny]   \n",
       "68   [emusic, com, album, Harmonica, Shah, If, All,...   \n",
       "2                      [hampshirepolicechoir, org, uk]   \n",
       "36                                   [thamaritan, com]   \n",
       "\n",
       "                                          text_stemmed  \\\n",
       "38   [hoosierhillshoop, com, new, albani, whitehead...   \n",
       "22                          [lovejessi, com, whatsapp]   \n",
       "85   [samfordsport, com, sport, m, baskbl, spec, re...   \n",
       "103     [citi, data, com, citi, waver, missouri, html]   \n",
       "111                 [revolut, effici, webhostapp, com]   \n",
       "17                                   [m, facebook, co]   \n",
       "11                    [exploretal, com, taylormatheni]   \n",
       "68   [emus, com, album, harmonica, shah, if, all, y...   \n",
       "2                      [hampshirepolicechoir, org, uk]   \n",
       "36                                   [thamaritan, com]   \n",
       "\n",
       "                                             text_sent  \n",
       "38   hoosierhillshoop com new albani whitehead head...  \n",
       "22                              lovejessi com whatsapp  \n",
       "85   samfordsport com sport m baskbl spec rel samf ...  \n",
       "103             citi data com citi waver missouri html  \n",
       "111                      revolut effici webhostapp com  \n",
       "17                                       m facebook co  \n",
       "11                        exploretal com taylormatheni  \n",
       "68   emus com album harmonica shah if all you have ...  \n",
       "2                          hampshirepolicechoir org uk  \n",
       "36                                      thamaritan com  "
      ]
     },
     "execution_count": 9,
     "metadata": {},
     "output_type": "execute_result"
    }
   ],
   "source": [
    "dfeval.sample(10)"
   ]
  },
  {
   "cell_type": "code",
   "execution_count": 10,
   "id": "be7f3607-44a2-468b-87fe-e62fc6b23e14",
   "metadata": {},
   "outputs": [
    {
     "data": {
      "text/plain": [
       "array([[0, 0, 0, ..., 0, 0, 0],\n",
       "       [0, 0, 0, ..., 0, 0, 0],\n",
       "       [0, 0, 0, ..., 0, 0, 0],\n",
       "       [0, 0, 0, ..., 0, 0, 0],\n",
       "       [0, 0, 0, ..., 0, 0, 0]], dtype=int64)"
      ]
     },
     "execution_count": 10,
     "metadata": {},
     "output_type": "execute_result"
    }
   ],
   "source": [
    "cv = CountVectorizer()\n",
    "feature = cv.fit_transform(dftrain.text_sent)\n",
    "feature[:5].toarray()"
   ]
  },
  {
   "cell_type": "code",
   "execution_count": 11,
   "id": "04b01146-d1de-4a12-b41a-d9e38df6981f",
   "metadata": {},
   "outputs": [],
   "source": [
    "trainX, testX, trainY, testY = train_test_split(feature, dftrain.Label)"
   ]
  },
  {
   "cell_type": "code",
   "execution_count": null,
   "id": "5c400da9-877f-434b-93bc-3574f6310e74",
   "metadata": {},
   "outputs": [],
   "source": [
    "lr = LogisticRegression(max_iter=5000)\n",
    "lr.fit(trainX,trainY)"
   ]
  },
  {
   "cell_type": "code",
   "execution_count": null,
   "id": "d54f4f2f-0e09-462b-bde4-f04bce238834",
   "metadata": {},
   "outputs": [],
   "source": [
    "lr.score(testX,testY)"
   ]
  },
  {
   "cell_type": "code",
   "execution_count": null,
   "id": "7a465de3-b9ed-42a6-9b61-18a6495ea2a6",
   "metadata": {},
   "outputs": [],
   "source": [
    "Scores_ml = {}\n",
    "Scores_ml['Logistic Regression'] = np.round(lr.score(testX,testY),2)"
   ]
  },
  {
   "cell_type": "code",
   "execution_count": null,
   "id": "9d526720-c3c0-4acd-84c2-d181ce485c0d",
   "metadata": {},
   "outputs": [],
   "source": [
    "print('Training Accuracy :',lr.score(trainX,trainY))\n",
    "print('Testing Accuracy :',lr.score(testX,testY))\n",
    "con_mat = pd.DataFrame(confusion_matrix(lr.predict(testX), testY),\n",
    "            columns = ['Predicted:Bad', 'Predicted:Good'],\n",
    "            index = ['Actual:Bad', 'Actual:Good'])\n",
    "\n",
    "\n",
    "print('\\nCLASSIFICATION REPORT\\n')\n",
    "print(classification_report(lr.predict(testX), testY,\n",
    "                            target_names =['Bad','Good']))\n",
    "\n",
    "print('\\nCONFUSION MATRIX')\n",
    "plt.figure(figsize= (6,4))\n",
    "sns.heatmap(con_mat, annot = True,fmt='d',cmap=\"YlGnBu\")"
   ]
  },
  {
   "cell_type": "code",
   "execution_count": null,
   "id": "ba9557b7-e727-424f-a0db-0e7972672ad6",
   "metadata": {},
   "outputs": [],
   "source": [
    "pipeline_ls = make_pipeline(CountVectorizer(tokenizer = RegexpTokenizer(r'[A-Za-z]+').tokenize,stop_words='english'), LogisticRegression(max_iter=5000))"
   ]
  },
  {
   "cell_type": "code",
   "execution_count": null,
   "id": "b565cf0c-ad39-42a3-8a37-ab79c03c18b5",
   "metadata": {},
   "outputs": [],
   "source": [
    "trainX, testX, trainY, testY = train_test_split(dftrain.URL, dftrain.Label)"
   ]
  },
  {
   "cell_type": "code",
   "execution_count": null,
   "id": "65df72bf-cb4d-459e-8942-3f7c223344f6",
   "metadata": {},
   "outputs": [],
   "source": [
    "pipeline_ls.fit(trainX,trainY)"
   ]
  },
  {
   "cell_type": "code",
   "execution_count": null,
   "id": "4cb5b60b-e752-4216-95a3-8815998391c2",
   "metadata": {},
   "outputs": [],
   "source": [
    "pipeline_ls.score(testX,testY)"
   ]
  },
  {
   "cell_type": "code",
   "execution_count": null,
   "id": "603ab881-e412-46f6-a089-1914884e4625",
   "metadata": {},
   "outputs": [],
   "source": [
    "pickle.dump(pipeline_ls,open('phishing_detector.pkl','wb'))"
   ]
  },
  {
   "cell_type": "code",
   "execution_count": null,
   "id": "ec4a9172-c628-4263-ac85-78be0b0e5d86",
   "metadata": {},
   "outputs": [],
   "source": [
    "loaded_model = pickle.load(open('E:/Codes/Python/ML Phising Detector/phishing_detector.pkl', 'rb'))"
   ]
  },
  {
   "cell_type": "code",
   "execution_count": null,
   "id": "aef05f55-ea58-42a2-b36a-21f3a783af78",
   "metadata": {},
   "outputs": [],
   "source": [
    "test = ['https://github.com/taruntiwarihp/Projects_DS/blob/master/Phishing Site URLs Prediction/prediction_app.py']\n",
    "probability = loaded_model.predict_proba(test)\n",
    "result = loaded_model.predict(test)\n",
    "print(probability, result)"
   ]
  },
  {
   "cell_type": "code",
   "execution_count": null,
   "id": "3ecabe1c-1bc2-43c9-84d0-7f8174fda84e",
   "metadata": {},
   "outputs": [],
   "source": [
    "print(probability[0,1])"
   ]
  },
  {
   "cell_type": "code",
   "execution_count": null,
   "id": "4e54dc49-d394-408e-a718-74560acbf39b",
   "metadata": {},
   "outputs": [],
   "source": []
  }
 ],
 "metadata": {
  "kernelspec": {
   "display_name": "Python 3 (ipykernel)",
   "language": "python",
   "name": "python3"
  },
  "language_info": {
   "codemirror_mode": {
    "name": "ipython",
    "version": 3
   },
   "file_extension": ".py",
   "mimetype": "text/x-python",
   "name": "python",
   "nbconvert_exporter": "python",
   "pygments_lexer": "ipython3",
   "version": "3.9.6"
  }
 },
 "nbformat": 4,
 "nbformat_minor": 5
}
