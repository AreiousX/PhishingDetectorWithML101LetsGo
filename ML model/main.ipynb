{
 "cells": [
  {
   "cell_type": "code",
   "execution_count": 1,
   "id": "1a2f56d9-309b-4f27-9c9f-12cc39746e0f",
   "metadata": {},
   "outputs": [
    {
     "name": "stdout",
     "output_type": "stream",
     "text": [
      "2.5.0\n"
     ]
    }
   ],
   "source": [
    "from __future__ import absolute_import, division, print_function, unicode_literals\n",
    "\n",
    "import numpy as np\n",
    "import pandas as pd\n",
    "import matplotlib.pyplot as plt\n",
    "from six.moves import urllib\n",
    "import seaborn as sns\n",
    "import time\n",
    "\n",
    "from nltk.tokenize import RegexpTokenizer\n",
    "from nltk.stem.snowball import SnowballStemmer\n",
    "\n",
    "from sklearn.linear_model import LogisticRegression\n",
    "from sklearn.model_selection import train_test_split\n",
    "from sklearn.metrics import classification_report\n",
    "from sklearn.metrics import confusion_matrix\n",
    "from nltk.tokenize import RegexpTokenizer  \n",
    "from nltk.stem.snowball import SnowballStemmer\n",
    "from sklearn.feature_extraction.text import CountVectorizer \n",
    "from sklearn.pipeline import make_pipeline\n",
    "\n",
    "import pickle# use to dump model \n",
    "\n",
    "import tensorflow.compat.v2.feature_column as fc\n",
    "\n",
    "import tensorflow as tf\n",
    "print(tf.__version__)"
   ]
  },
  {
   "cell_type": "code",
   "execution_count": 2,
   "id": "709c85cc-9dd2-4f43-b807-f7ec1b6ef143",
   "metadata": {},
   "outputs": [],
   "source": [
    "csv0 = pd.read_csv('E:/Codes/Python/ML Phising Detector/Datasets/phishing_site_urls.csv')\n",
    "csv0.columns = ['URL','Label']\n",
    "csv1 = pd.read_csv('E:/Codes/Python/ML Phising Detector/Datasets/urldata.csv')\n",
    "csv1.columns = ['URL','Label']\n",
    "csv2 = pd.read_csv('E:/Codes/Python/ML Phising Detector/Datasets/urls.csv')\n",
    "csv2.columns = ['URL','Label']\n",
    "dfeval = pd.read_csv('E:/Codes/Python/ML Phising Detector/Datasets/test.csv')"
   ]
  },
  {
   "cell_type": "code",
   "execution_count": 3,
   "id": "04d42c73-7c83-44e6-ab9c-41cb15c001ea",
   "metadata": {},
   "outputs": [],
   "source": [
    "frames = [csv0, csv1, csv2]\n",
    "cFrames = pd.concat(frames)\n",
    "cFrames.to_csv('E:/Codes/Python/ML Phising Detector/Datasets/final_urls.csv', index = False)\n",
    "dftrain = pd.read_csv('E:/Codes/Python/ML Phising Detector/Datasets/final_urls.csv')"
   ]
  },
  {
   "cell_type": "code",
   "execution_count": 4,
   "id": "4559ef71-a9ba-4d64-ad62-291125f5cbb0",
   "metadata": {},
   "outputs": [
    {
     "name": "stdout",
     "output_type": "stream",
     "text": [
      "                                                 URL  Label\n",
      "0                           wibcjkwrk.ru/checkupdate      1\n",
      "1                 en.wikipedia.org/wiki/Maiko_Watson      0\n",
      "2  tvosxdfmkciqxvpwvbbnnrjifawkhznzifyx.offgl8876...      1\n",
      "3                                  lloydsalert.co.uk      1\n",
      "4                  onlinehuntintonbank.accesscam.org      1\n",
      "5                              rbbn-cz-secure.online      1\n",
      "6  heilpraktikerin-edhofer.de/wp-includes/pomo/ne...      1\n",
      "7  attloginnewupdatingservicemailcommunication.we...      1\n",
      "8                                     incomeways.icu      1\n",
      "9  gallery.skcentral.com/displayimage.php?album=3...      0\n",
      "RangeIndex(start=0, stop=1300448, step=1)\n"
     ]
    }
   ],
   "source": [
    "print(dftrain.head(10))\n",
    "print(dftrain.index)"
   ]
  },
  {
   "cell_type": "code",
   "execution_count": 5,
   "id": "ada6ac1e-b3e2-43d7-9d33-5dc24139b93e",
   "metadata": {},
   "outputs": [
    {
     "name": "stdout",
     "output_type": "stream",
     "text": [
      "    Label\n",
      "0  738213\n",
      "1  562235\n"
     ]
    }
   ],
   "source": [
    "label_counts = pd.DataFrame(dftrain.Label.value_counts())\n",
    "print(label_counts)"
   ]
  },
  {
   "cell_type": "code",
   "execution_count": 6,
   "id": "9e18ce56-ec1f-4348-9d02-537c4c3a947a",
   "metadata": {},
   "outputs": [
    {
     "name": "stderr",
     "output_type": "stream",
     "text": [
      "c:\\users\\steven\\appdata\\local\\programs\\python\\python39\\lib\\site-packages\\seaborn\\_decorators.py:36: FutureWarning: Pass the following variables as keyword args: x, y. From version 0.12, the only valid positional argument will be `data`, and passing other arguments without an explicit keyword will result in an error or misinterpretation.\n",
      "  warnings.warn(\n"
     ]
    },
    {
     "data": {
      "text/plain": [
       "<AxesSubplot:ylabel='Label'>"
      ]
     },
     "execution_count": 6,
     "metadata": {},
     "output_type": "execute_result"
    },
    {
     "data": {
      "image/png": "[encoded data removed]",
      "text/plain": [
       "<Figure size 432x288 with 1 Axes>"
      ]
     },
     "metadata": {},
     "output_type": "display_data"
    }
   ],
   "source": [
    "sns.set_style('darkgrid')\n",
    "sns.barplot(label_counts.index,label_counts.Label)"
   ]
  },
  {
   "cell_type": "code",
   "execution_count": 7,
   "id": "86016929-5201-4f1c-b1ba-824dbdd1d44d",
   "metadata": {},
   "outputs": [],
   "source": [
    "def treat_data(datain):\n",
    "    tokenizer = RegexpTokenizer(r'[A-Za-z]+')\n",
    "    tokenizer.tokenize(datain.URL[0])\n",
    "    print('Getting words tokenized ...')\n",
    "    t0= time.perf_counter()\n",
    "    datain['text_tokenized'] = datain.URL.map(lambda t: tokenizer.tokenize(t))\n",
    "    t1 = time.perf_counter() - t0\n",
    "    print('Time taken',t1 ,'sec')\n",
    "\n",
    "    stemmer = SnowballStemmer(\"english\")\n",
    "    print('Getting words stemmed ...')\n",
    "    t0= time.perf_counter()\n",
    "    datain['text_stemmed'] = datain['text_tokenized'].map(lambda l: [stemmer.stem(word) for word in l])\n",
    "    t1= time.perf_counter() - t0\n",
    "    print('Time taken',t1 ,'sec')\n",
    "\n",
    "    print('Getting joiningwords ...')\n",
    "    t0= time.perf_counter()\n",
    "    datain['text_sent'] = datain['text_stemmed'].map(lambda l: ' '.join(l))\n",
    "    t1= time.perf_counter() - t0\n",
    "    print('Time taken',t1 ,'sec')\n",
    "\n",
    "    dataout = datain\n",
    "    return dataout"
   ]
  },
  {
   "cell_type": "code",
   "execution_count": 8,
   "id": "e6d32d4d-1cc8-492b-b4ed-35cd8165dc17",
   "metadata": {},
   "outputs": [
    {
     "name": "stdout",
     "output_type": "stream",
     "text": [
      "Getting words tokenized ...\n",
      "Time taken 3.7509879999999995 sec\n",
      "Getting words stemmed ...\n",
      "Time taken 58.4706655 sec\n",
      "Getting joiningwords ...\n",
      "Time taken 0.3425393999999926 sec\n"
     ]
    },
    {
     "data": {
      "text/plain": [
       "(1300448, 5)"
      ]
     },
     "execution_count": 8,
     "metadata": {},
     "output_type": "execute_result"
    }
   ],
   "source": [
    "dftrain = treat_data(dftrain)\n",
    "dftrain.shape"
   ]
  },
  {
   "cell_type": "code",
   "execution_count": 9,
   "id": "9f8ae6bc-1738-4ad6-af09-5a7e200ef9ec",
   "metadata": {},
   "outputs": [
    {
     "data": {
      "text/html": [
       "<div>\n",
       "<style scoped>\n",
       "    .dataframe tbody tr th:only-of-type {\n",
       "        vertical-align: middle;\n",
       "    }\n",
       "\n",
       "    .dataframe tbody tr th {\n",
       "        vertical-align: top;\n",
       "    }\n",
       "\n",
       "    .dataframe thead th {\n",
       "        text-align: right;\n",
       "    }\n",
       "</style>\n",
       "<table border=\"1\" class=\"dataframe\">\n",
       "  <thead>\n",
       "    <tr style=\"text-align: right;\">\n",
       "      <th></th>\n",
       "      <th>URL</th>\n",
       "      <th>Label</th>\n",
       "      <th>text_tokenized</th>\n",
       "      <th>text_stemmed</th>\n",
       "      <th>text_sent</th>\n",
       "    </tr>\n",
       "  </thead>\n",
       "  <tbody>\n",
       "    <tr>\n",
       "      <th>894928</th>\n",
       "      <td>awesometime4you.com/wp-admin/js/cmfr/224d1e468...</td>\n",
       "      <td>1</td>\n",
       "      <td>[awesometime, you, com, wp, admin, js, cmfr, d...</td>\n",
       "      <td>[awesometim, you, com, wp, admin, js, cmfr, d,...</td>\n",
       "      <td>awesometim you com wp admin js cmfr d e b c d ...</td>\n",
       "    </tr>\n",
       "    <tr>\n",
       "      <th>437488</th>\n",
       "      <td>bayshore-technologies.com</td>\n",
       "      <td>1</td>\n",
       "      <td>[bayshore, technologies, com]</td>\n",
       "      <td>[bayshor, technolog, com]</td>\n",
       "      <td>bayshor technolog com</td>\n",
       "    </tr>\n",
       "    <tr>\n",
       "      <th>669398</th>\n",
       "      <td>youtube.com/watch?v=od04lZ-aVAc</td>\n",
       "      <td>0</td>\n",
       "      <td>[youtube, com, watch, v, od, lZ, aVAc]</td>\n",
       "      <td>[youtub, com, watch, v, od, lz, avac]</td>\n",
       "      <td>youtub com watch v od lz avac</td>\n",
       "    </tr>\n",
       "    <tr>\n",
       "      <th>598743</th>\n",
       "      <td>looginlivemicrftline.com</td>\n",
       "      <td>1</td>\n",
       "      <td>[looginlivemicrftline, com]</td>\n",
       "      <td>[looginlivemicrftlin, com]</td>\n",
       "      <td>looginlivemicrftlin com</td>\n",
       "    </tr>\n",
       "    <tr>\n",
       "      <th>678986</th>\n",
       "      <td>dcvsmbuayb.hohyzuxpp.net/bfc6xnctj3\\n2pvi59m4u...</td>\n",
       "      <td>1</td>\n",
       "      <td>[dcvsmbuayb, hohyzuxpp, net, bfc, xnctj, n, pv...</td>\n",
       "      <td>[dcvsmbuayb, hohyzuxpp, net, bfc, xnctj, n, pv...</td>\n",
       "      <td>dcvsmbuayb hohyzuxpp net bfc xnctj n pvi m u l...</td>\n",
       "    </tr>\n",
       "    <tr>\n",
       "      <th>607114</th>\n",
       "      <td>saequity.com/wp-includes/SimplePie/Parse/~/Mai...</td>\n",
       "      <td>1</td>\n",
       "      <td>[saequity, com, wp, includes, SimplePie, Parse...</td>\n",
       "      <td>[saequiti, com, wp, includ, simplepi, pars, ma...</td>\n",
       "      <td>saequiti com wp includ simplepi pars maikudire...</td>\n",
       "    </tr>\n",
       "    <tr>\n",
       "      <th>983620</th>\n",
       "      <td>inside.anime-expo.org/ax-scoop/2011-05/chart-t...</td>\n",
       "      <td>0</td>\n",
       "      <td>[inside, anime, expo, org, ax, scoop, chart, t...</td>\n",
       "      <td>[insid, anim, expo, org, ax, scoop, chart, top...</td>\n",
       "      <td>insid anim expo org ax scoop chart top japanes...</td>\n",
       "    </tr>\n",
       "    <tr>\n",
       "      <th>766964</th>\n",
       "      <td>asloid.com</td>\n",
       "      <td>1</td>\n",
       "      <td>[asloid, com]</td>\n",
       "      <td>[asloid, com]</td>\n",
       "      <td>asloid com</td>\n",
       "    </tr>\n",
       "    <tr>\n",
       "      <th>547923</th>\n",
       "      <td>a70892jf.beget.tech</td>\n",
       "      <td>1</td>\n",
       "      <td>[a, jf, beget, tech]</td>\n",
       "      <td>[a, jf, beget, tech]</td>\n",
       "      <td>a jf beget tech</td>\n",
       "    </tr>\n",
       "    <tr>\n",
       "      <th>168086</th>\n",
       "      <td>divsteel.com</td>\n",
       "      <td>1</td>\n",
       "      <td>[divsteel, com]</td>\n",
       "      <td>[divsteel, com]</td>\n",
       "      <td>divsteel com</td>\n",
       "    </tr>\n",
       "  </tbody>\n",
       "</table>\n",
       "</div>"
      ],
      "text/plain": [
       "                                                      URL  Label  \\\n",
       "894928  awesometime4you.com/wp-admin/js/cmfr/224d1e468...      1   \n",
       "437488                          bayshore-technologies.com      1   \n",
       "669398                    youtube.com/watch?v=od04lZ-aVAc      0   \n",
       "598743                           looginlivemicrftline.com      1   \n",
       "678986  dcvsmbuayb.hohyzuxpp.net/bfc6xnctj3\\n2pvi59m4u...      1   \n",
       "607114  saequity.com/wp-includes/SimplePie/Parse/~/Mai...      1   \n",
       "983620  inside.anime-expo.org/ax-scoop/2011-05/chart-t...      0   \n",
       "766964                                         asloid.com      1   \n",
       "547923                                a70892jf.beget.tech      1   \n",
       "168086                                       divsteel.com      1   \n",
       "\n",
       "                                           text_tokenized  \\\n",
       "894928  [awesometime, you, com, wp, admin, js, cmfr, d...   \n",
       "437488                      [bayshore, technologies, com]   \n",
       "669398             [youtube, com, watch, v, od, lZ, aVAc]   \n",
       "598743                        [looginlivemicrftline, com]   \n",
       "678986  [dcvsmbuayb, hohyzuxpp, net, bfc, xnctj, n, pv...   \n",
       "607114  [saequity, com, wp, includes, SimplePie, Parse...   \n",
       "983620  [inside, anime, expo, org, ax, scoop, chart, t...   \n",
       "766964                                      [asloid, com]   \n",
       "547923                               [a, jf, beget, tech]   \n",
       "168086                                    [divsteel, com]   \n",
       "\n",
       "                                             text_stemmed  \\\n",
       "894928  [awesometim, you, com, wp, admin, js, cmfr, d,...   \n",
       "437488                          [bayshor, technolog, com]   \n",
       "669398              [youtub, com, watch, v, od, lz, avac]   \n",
       "598743                         [looginlivemicrftlin, com]   \n",
       "678986  [dcvsmbuayb, hohyzuxpp, net, bfc, xnctj, n, pv...   \n",
       "607114  [saequiti, com, wp, includ, simplepi, pars, ma...   \n",
       "983620  [insid, anim, expo, org, ax, scoop, chart, top...   \n",
       "766964                                      [asloid, com]   \n",
       "547923                               [a, jf, beget, tech]   \n",
       "168086                                    [divsteel, com]   \n",
       "\n",
       "                                                text_sent  \n",
       "894928  awesometim you com wp admin js cmfr d e b c d ...  \n",
       "437488                              bayshor technolog com  \n",
       "669398                      youtub com watch v od lz avac  \n",
       "598743                            looginlivemicrftlin com  \n",
       "678986  dcvsmbuayb hohyzuxpp net bfc xnctj n pvi m u l...  \n",
       "607114  saequiti com wp includ simplepi pars maikudire...  \n",
       "983620  insid anim expo org ax scoop chart top japanes...  \n",
       "766964                                         asloid com  \n",
       "547923                                    a jf beget tech  \n",
       "168086                                       divsteel com  "
      ]
     },
     "execution_count": 9,
     "metadata": {},
     "output_type": "execute_result"
    }
   ],
   "source": [
    "dftrain.sample(10)"
   ]
  },
  {
   "cell_type": "code",
   "execution_count": 10,
   "id": "cf1226ca-9cfa-428d-b4c9-97136ebe0b8a",
   "metadata": {},
   "outputs": [
    {
     "name": "stdout",
     "output_type": "stream",
     "text": [
      "Getting words tokenized ...\n",
      "Time taken 0.00069360000000529 sec\n",
      "Getting words stemmed ...\n",
      "Time taken 0.00684540000000311 sec\n",
      "Getting joiningwords ...\n",
      "Time taken 0.00046489999999721476 sec\n"
     ]
    },
    {
     "data": {
      "text/plain": [
       "(133, 5)"
      ]
     },
     "execution_count": 10,
     "metadata": {},
     "output_type": "execute_result"
    }
   ],
   "source": [
    "dfeval = treat_data(dfeval)\n",
    "dfeval.shape"
   ]
  },
  {
   "cell_type": "code",
   "execution_count": 11,
   "id": "dfdff226-2cb9-4e1b-af01-225dd41016b3",
   "metadata": {},
   "outputs": [
    {
     "data": {
      "text/html": [
       "<div>\n",
       "<style scoped>\n",
       "    .dataframe tbody tr th:only-of-type {\n",
       "        vertical-align: middle;\n",
       "    }\n",
       "\n",
       "    .dataframe tbody tr th {\n",
       "        vertical-align: top;\n",
       "    }\n",
       "\n",
       "    .dataframe thead th {\n",
       "        text-align: right;\n",
       "    }\n",
       "</style>\n",
       "<table border=\"1\" class=\"dataframe\">\n",
       "  <thead>\n",
       "    <tr style=\"text-align: right;\">\n",
       "      <th></th>\n",
       "      <th>URL</th>\n",
       "      <th>Label</th>\n",
       "      <th>text_tokenized</th>\n",
       "      <th>text_stemmed</th>\n",
       "      <th>text_sent</th>\n",
       "    </tr>\n",
       "  </thead>\n",
       "  <tbody>\n",
       "    <tr>\n",
       "      <th>32</th>\n",
       "      <td>paxful-maintenances.com</td>\n",
       "      <td>1</td>\n",
       "      <td>[paxful, maintenances, com]</td>\n",
       "      <td>[pax, mainten, com]</td>\n",
       "      <td>pax mainten com</td>\n",
       "    </tr>\n",
       "    <tr>\n",
       "      <th>50</th>\n",
       "      <td>ruleschange-xy0a0chmh6.theprivategarden.ae</td>\n",
       "      <td>1</td>\n",
       "      <td>[ruleschange, xy, a, chmh, theprivategarden, ae]</td>\n",
       "      <td>[ruleschang, xy, a, chmh, theprivategarden, ae]</td>\n",
       "      <td>ruleschang xy a chmh theprivategarden ae</td>\n",
       "    </tr>\n",
       "    <tr>\n",
       "      <th>103</th>\n",
       "      <td>city-data.com/city/Waverly-Missouri.html</td>\n",
       "      <td>0</td>\n",
       "      <td>[city, data, com, city, Waverly, Missouri, html]</td>\n",
       "      <td>[citi, data, com, citi, waver, missouri, html]</td>\n",
       "      <td>citi data com citi waver missouri html</td>\n",
       "    </tr>\n",
       "    <tr>\n",
       "      <th>110</th>\n",
       "      <td>songlyrics.com/the-luyas/too-beautiful-to-work...</td>\n",
       "      <td>0</td>\n",
       "      <td>[songlyrics, com, the, luyas, too, beautiful, ...</td>\n",
       "      <td>[songlyr, com, the, luya, too, beauti, to, wor...</td>\n",
       "      <td>songlyr com the luya too beauti to work lyric</td>\n",
       "    </tr>\n",
       "    <tr>\n",
       "      <th>123</th>\n",
       "      <td>shropshirestar.com/sport/wolverhampton-wandere...</td>\n",
       "      <td>0</td>\n",
       "      <td>[shropshirestar, com, sport, wolverhampton, wa...</td>\n",
       "      <td>[shropshirestar, com, sport, wolverhampton, wa...</td>\n",
       "      <td>shropshirestar com sport wolverhampton wander ...</td>\n",
       "    </tr>\n",
       "    <tr>\n",
       "      <th>122</th>\n",
       "      <td>elxosnfere.web.app</td>\n",
       "      <td>1</td>\n",
       "      <td>[elxosnfere, web, app]</td>\n",
       "      <td>[elxosnfer, web, app]</td>\n",
       "      <td>elxosnfer web app</td>\n",
       "    </tr>\n",
       "    <tr>\n",
       "      <th>49</th>\n",
       "      <td>amt.netingel.com</td>\n",
       "      <td>1</td>\n",
       "      <td>[amt, netingel, com]</td>\n",
       "      <td>[amt, netingel, com]</td>\n",
       "      <td>amt netingel com</td>\n",
       "    </tr>\n",
       "    <tr>\n",
       "      <th>38</th>\n",
       "      <td>hoosierhillshoops.com/2011/08/05/new-albanys-w...</td>\n",
       "      <td>0</td>\n",
       "      <td>[hoosierhillshoops, com, new, albanys, whitehe...</td>\n",
       "      <td>[hoosierhillshoop, com, new, albani, whitehead...</td>\n",
       "      <td>hoosierhillshoop com new albani whitehead head...</td>\n",
       "    </tr>\n",
       "    <tr>\n",
       "      <th>2</th>\n",
       "      <td>hampshirepolicechoir.org.uk/</td>\n",
       "      <td>0</td>\n",
       "      <td>[hampshirepolicechoir, org, uk]</td>\n",
       "      <td>[hampshirepolicechoir, org, uk]</td>\n",
       "      <td>hampshirepolicechoir org uk</td>\n",
       "    </tr>\n",
       "    <tr>\n",
       "      <th>24</th>\n",
       "      <td>182.92.184.208:8806/hao123.bat</td>\n",
       "      <td>1</td>\n",
       "      <td>[hao, bat]</td>\n",
       "      <td>[hao, bat]</td>\n",
       "      <td>hao bat</td>\n",
       "    </tr>\n",
       "  </tbody>\n",
       "</table>\n",
       "</div>"
      ],
      "text/plain": [
       "                                                   URL  Label  \\\n",
       "32                             paxful-maintenances.com      1   \n",
       "50          ruleschange-xy0a0chmh6.theprivategarden.ae      1   \n",
       "103           city-data.com/city/Waverly-Missouri.html      0   \n",
       "110  songlyrics.com/the-luyas/too-beautiful-to-work...      0   \n",
       "123  shropshirestar.com/sport/wolverhampton-wandere...      0   \n",
       "122                                 elxosnfere.web.app      1   \n",
       "49                                    amt.netingel.com      1   \n",
       "38   hoosierhillshoops.com/2011/08/05/new-albanys-w...      0   \n",
       "2                         hampshirepolicechoir.org.uk/      0   \n",
       "24                      182.92.184.208:8806/hao123.bat      1   \n",
       "\n",
       "                                        text_tokenized  \\\n",
       "32                         [paxful, maintenances, com]   \n",
       "50    [ruleschange, xy, a, chmh, theprivategarden, ae]   \n",
       "103   [city, data, com, city, Waverly, Missouri, html]   \n",
       "110  [songlyrics, com, the, luyas, too, beautiful, ...   \n",
       "123  [shropshirestar, com, sport, wolverhampton, wa...   \n",
       "122                             [elxosnfere, web, app]   \n",
       "49                                [amt, netingel, com]   \n",
       "38   [hoosierhillshoops, com, new, albanys, whitehe...   \n",
       "2                      [hampshirepolicechoir, org, uk]   \n",
       "24                                          [hao, bat]   \n",
       "\n",
       "                                          text_stemmed  \\\n",
       "32                                 [pax, mainten, com]   \n",
       "50     [ruleschang, xy, a, chmh, theprivategarden, ae]   \n",
       "103     [citi, data, com, citi, waver, missouri, html]   \n",
       "110  [songlyr, com, the, luya, too, beauti, to, wor...   \n",
       "123  [shropshirestar, com, sport, wolverhampton, wa...   \n",
       "122                              [elxosnfer, web, app]   \n",
       "49                                [amt, netingel, com]   \n",
       "38   [hoosierhillshoop, com, new, albani, whitehead...   \n",
       "2                      [hampshirepolicechoir, org, uk]   \n",
       "24                                          [hao, bat]   \n",
       "\n",
       "                                             text_sent  \n",
       "32                                     pax mainten com  \n",
       "50            ruleschang xy a chmh theprivategarden ae  \n",
       "103             citi data com citi waver missouri html  \n",
       "110      songlyr com the luya too beauti to work lyric  \n",
       "123  shropshirestar com sport wolverhampton wander ...  \n",
       "122                                  elxosnfer web app  \n",
       "49                                    amt netingel com  \n",
       "38   hoosierhillshoop com new albani whitehead head...  \n",
       "2                          hampshirepolicechoir org uk  \n",
       "24                                             hao bat  "
      ]
     },
     "execution_count": 11,
     "metadata": {},
     "output_type": "execute_result"
    }
   ],
   "source": [
    "dfeval.sample(10)"
   ]
  },
  {
   "cell_type": "code",
   "execution_count": 12,
   "id": "be7f3607-44a2-468b-87fe-e62fc6b23e14",
   "metadata": {},
   "outputs": [
    {
     "data": {
      "text/plain": [
       "array([[0, 0, 0, ..., 0, 0, 0],\n",
       "       [0, 0, 0, ..., 0, 0, 0],\n",
       "       [0, 0, 0, ..., 0, 0, 0],\n",
       "       [0, 0, 0, ..., 0, 0, 0],\n",
       "       [0, 0, 0, ..., 0, 0, 0]], dtype=int64)"
      ]
     },
     "execution_count": 12,
     "metadata": {},
     "output_type": "execute_result"
    }
   ],
   "source": [
    "cv = CountVectorizer()\n",
    "feature = cv.fit_transform(dftrain.text_sent)\n",
    "feature[:5].toarray()"
   ]
  },
  {
   "cell_type": "code",
   "execution_count": 13,
   "id": "04b01146-d1de-4a12-b41a-d9e38df6981f",
   "metadata": {},
   "outputs": [],
   "source": [
    "trainX, testX, trainY, testY = train_test_split(feature, dftrain.Label)"
   ]
  },
  {
   "cell_type": "code",
   "execution_count": 14,
   "id": "5c400da9-877f-434b-93bc-3574f6310e74",
   "metadata": {},
   "outputs": [
    {
     "data": {
      "text/plain": [
       "LogisticRegression(max_iter=5000)"
      ]
     },
     "execution_count": 14,
     "metadata": {},
     "output_type": "execute_result"
    }
   ],
   "source": [
    "lr = LogisticRegression(max_iter=5000)\n",
    "lr.fit(trainX,trainY)"
   ]
  },
  {
   "cell_type": "code",
   "execution_count": 15,
   "id": "d54f4f2f-0e09-462b-bde4-f04bce238834",
   "metadata": {},
   "outputs": [
    {
     "data": {
      "text/plain": [
       "0.9441669332414676"
      ]
     },
     "execution_count": 15,
     "metadata": {},
     "output_type": "execute_result"
    }
   ],
   "source": [
    "lr.score(testX,testY)"
   ]
  },
  {
   "cell_type": "code",
   "execution_count": 16,
   "id": "7a465de3-b9ed-42a6-9b61-18a6495ea2a6",
   "metadata": {},
   "outputs": [],
   "source": [
    "Scores_ml = {}\n",
    "Scores_ml['Logistic Regression'] = np.round(lr.score(testX,testY),2)"
   ]
  },
  {
   "cell_type": "code",
   "execution_count": 17,
   "id": "9d526720-c3c0-4acd-84c2-d181ce485c0d",
   "metadata": {},
   "outputs": [
    {
     "name": "stdout",
     "output_type": "stream",
     "text": [
      "Training Accuracy : 0.9782680020013615\n",
      "Testing Accuracy : 0.9441669332414676\n",
      "\n",
      "CLASSIFICATION REPORT\n",
      "\n",
      "              precision    recall  f1-score   support\n",
      "\n",
      "         Bad       0.93      0.97      0.95    175586\n",
      "        Good       0.97      0.91      0.94    149526\n",
      "\n",
      "    accuracy                           0.94    325112\n",
      "   macro avg       0.95      0.94      0.94    325112\n",
      "weighted avg       0.95      0.94      0.94    325112\n",
      "\n",
      "\n",
      "CONFUSION MATRIX\n"
     ]
    },
    {
     "data": {
      "text/plain": [
       "<AxesSubplot:>"
      ]
     },
     "execution_count": 17,
     "metadata": {},
     "output_type": "execute_result"
    },
    {
     "data": {
      "image/png": "[encoded data removed]",
      "text/plain": [
       "<Figure size 432x288 with 2 Axes>"
      ]
     },
     "metadata": {},
     "output_type": "display_data"
    }
   ],
   "source": [
    "print('Training Accuracy :',lr.score(trainX,trainY))\n",
    "print('Testing Accuracy :',lr.score(testX,testY))\n",
    "con_mat = pd.DataFrame(confusion_matrix(lr.predict(testX), testY),\n",
    "            columns = ['Predicted:Bad', 'Predicted:Good'],\n",
    "            index = ['Actual:Bad', 'Actual:Good'])\n",
    "\n",
    "\n",
    "print('\\nCLASSIFICATION REPORT\\n')\n",
    "print(classification_report(lr.predict(testX), testY,\n",
    "                            target_names =['Bad','Good']))\n",
    "\n",
    "print('\\nCONFUSION MATRIX')\n",
    "plt.figure(figsize= (6,4))\n",
    "sns.heatmap(con_mat, annot = True,fmt='d',cmap=\"YlGnBu\")"
   ]
  },
  {
   "cell_type": "code",
   "execution_count": 18,
   "id": "ba9557b7-e727-424f-a0db-0e7972672ad6",
   "metadata": {},
   "outputs": [],
   "source": [
    "pipeline_ls = make_pipeline(CountVectorizer(tokenizer = RegexpTokenizer(r'[A-Za-z]+').tokenize,stop_words='english'), LogisticRegression(max_iter=5000))"
   ]
  },
  {
   "cell_type": "code",
   "execution_count": 19,
   "id": "b565cf0c-ad39-42a3-8a37-ab79c03c18b5",
   "metadata": {},
   "outputs": [],
   "source": [
    "trainX, testX, trainY, testY = train_test_split(dftrain.URL, dftrain.Label)"
   ]
  },
  {
   "cell_type": "code",
   "execution_count": 20,
   "id": "65df72bf-cb4d-459e-8942-3f7c223344f6",
   "metadata": {},
   "outputs": [
    {
     "data": {
      "text/plain": [
       "Pipeline(steps=[('countvectorizer',\n",
       "                 CountVectorizer(stop_words='english',\n",
       "                                 tokenizer=<bound method RegexpTokenizer.tokenize of RegexpTokenizer(pattern='[A-Za-z]+', gaps=False, discard_empty=True, flags=re.UNICODE|re.MULTILINE|re.DOTALL)>)),\n",
       "                ('logisticregression', LogisticRegression(max_iter=5000))])"
      ]
     },
     "execution_count": 20,
     "metadata": {},
     "output_type": "execute_result"
    }
   ],
   "source": [
    "pipeline_ls.fit(trainX,trainY)"
   ]
  },
  {
   "cell_type": "code",
   "execution_count": 21,
   "id": "4cb5b60b-e752-4216-95a3-8815998391c2",
   "metadata": {},
   "outputs": [
    {
     "data": {
      "text/plain": [
       "0.9452926991313763"
      ]
     },
     "execution_count": 21,
     "metadata": {},
     "output_type": "execute_result"
    }
   ],
   "source": [
    "pipeline_ls.score(testX,testY)"
   ]
  },
  {
   "cell_type": "code",
   "execution_count": 22,
   "id": "603ab881-e412-46f6-a089-1914884e4625",
   "metadata": {},
   "outputs": [],
   "source": [
    "pickle.dump(pipeline_ls,open('E:/Codes/Python/ML Phising Detector/phishing_detector.pkl','wb'))"
   ]
  },
  {
   "cell_type": "code",
   "execution_count": 23,
   "id": "ec4a9172-c628-4263-ac85-78be0b0e5d86",
   "metadata": {},
   "outputs": [],
   "source": [
    "loaded_model = pickle.load(open('E:/Codes/Python/ML Phising Detector/phishing_detector.pkl', 'rb'))"
   ]
  },
  {
   "cell_type": "code",
   "execution_count": 24,
   "id": "aef05f55-ea58-42a2-b36a-21f3a783af78",
   "metadata": {},
   "outputs": [
    {
     "name": "stdout",
     "output_type": "stream",
     "text": [
      "[[2.41598759e-04 9.99758401e-01]] [1]\n"
     ]
    }
   ],
   "source": [
    "test = ['https://github.com/taruntiwarihp/Projects_DS/blob/master/Phishing Site URLs Prediction/prediction_app.py']\n",
    "probability = loaded_model.predict_proba(test)\n",
    "result = loaded_model.predict(test)\n",
    "print(probability, result)"
   ]
  },
  {
   "cell_type": "code",
   "execution_count": 25,
   "id": "3ecabe1c-1bc2-43c9-84d0-7f8174fda84e",
   "metadata": {},
   "outputs": [
    {
     "name": "stdout",
     "output_type": "stream",
     "text": [
      "0.9997584012407281\n"
     ]
    }
   ],
   "source": [
    "print(probability[0,1])"
   ]
  },
  {
   "cell_type": "code",
   "execution_count": null,
   "id": "4e54dc49-d394-408e-a718-74560acbf39b",
   "metadata": {},
   "outputs": [],
   "source": []
  }
 ],
 "metadata": {
  "kernelspec": {
   "display_name": "Python 3 (ipykernel)",
   "language": "python",
   "name": "python3"
  },
  "language_info": {
   "codemirror_mode": {
    "name": "ipython",
    "version": 3
   },
   "file_extension": ".py",
   "mimetype": "text/x-python",
   "name": "python",
   "nbconvert_exporter": "python",
   "pygments_lexer": "ipython3",
   "version": "3.9.6"
  }
 },
 "nbformat": 4,
 "nbformat_minor": 5
}
